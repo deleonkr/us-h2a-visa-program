{
 "cells": [
  {
   "cell_type": "markdown",
   "metadata": {},
   "source": [
    "# Ohio H-2A visas analysis\n"
   ]
  },
  {
   "cell_type": "markdown",
   "metadata": {},
   "source": [
    "### Import Python analysis tools"
   ]
  },
  {
   "cell_type": "code",
   "execution_count": 1,
   "metadata": {
    "collapsed": true
   },
   "outputs": [],
   "source": [
    "import os\n",
    "import pandas as pd\n",
    "import geopandas as gp\n",
    "from datetime import date\n",
    "from shapely.geometry import Point"
   ]
  },
  {
   "cell_type": "code",
   "execution_count": 2,
   "metadata": {
    "collapsed": true
   },
   "outputs": [],
   "source": [
    "import warnings\n",
    "warnings.filterwarnings(\"ignore\")"
   ]
  },
  {
   "cell_type": "code",
   "execution_count": 3,
   "metadata": {
    "collapsed": true
   },
   "outputs": [],
   "source": [
    "pd.options.display.max_columns = None"
   ]
  },
  {
   "cell_type": "code",
   "execution_count": 4,
   "metadata": {
    "collapsed": true
   },
   "outputs": [],
   "source": [
    "%matplotlib inline"
   ]
  },
  {
   "cell_type": "code",
   "execution_count": 5,
   "metadata": {
    "collapsed": true
   },
   "outputs": [],
   "source": [
    "input_dir = os.path.join(os.getcwd(), 'input')\n",
    "output_dir = os.path.join(os.getcwd(), 'output')"
   ]
  },
  {
   "cell_type": "markdown",
   "metadata": {},
   "source": [
    "### Prepare the data for analysis"
   ]
  },
  {
   "cell_type": "markdown",
   "metadata": {},
   "source": [
    "Download the source data files from the U.S. Department of Labor's [Office of Foreign Labor Certification](https://www.foreignlaborcert.doleta.gov/performancedata.cfm)."
   ]
  },
  {
   "cell_type": "code",
   "execution_count": 6,
   "metadata": {
    "collapsed": true
   },
   "outputs": [],
   "source": [
    "%%capture\n",
    "%run A_download.ipynb"
   ]
  },
  {
   "cell_type": "markdown",
   "metadata": {},
   "source": [
    "Prepare them for analysis by carefully combining annual lists, winnowing out duplicate entries and limiting the result to approved applications."
   ]
  },
  {
   "cell_type": "code",
   "execution_count": 7,
   "metadata": {
    "collapsed": true
   },
   "outputs": [],
   "source": [
    "%%capture\n",
    "%run B_transform.ipynb"
   ]
  },
  {
   "cell_type": "markdown",
   "metadata": {},
   "source": [
    "Map work site locations"
   ]
  },
  {
   "cell_type": "code",
   "execution_count": 8,
   "metadata": {
    "collapsed": true
   },
   "outputs": [],
   "source": [
    "%%capture\n",
    "run C_geocode.ipynb"
   ]
  },
  {
   "cell_type": "markdown",
   "metadata": {},
   "source": [
    "### Finding: The total number of certified H2A visas has generally increased nationwide"
   ]
  },
  {
   "cell_type": "markdown",
   "metadata": {},
   "source": [
    "Read in the transformed file for analysis"
   ]
  },
  {
   "cell_type": "code",
   "execution_count": 9,
   "metadata": {
    "collapsed": true
   },
   "outputs": [],
   "source": [
    "df = pd.read_csv(\n",
    "    os.path.join(output_dir, \"transformed_master_cases.csv\"),\n",
    "    index_col=\"new_id\",\n",
    ")"
   ]
  },
  {
   "cell_type": "markdown",
   "metadata": {},
   "source": [
    "Group by calendar year and sum the total number of certified workers"
   ]
  },
  {
   "cell_type": "code",
   "execution_count": 10,
   "metadata": {
    "collapsed": true
   },
   "outputs": [],
   "source": [
    "annual_usa = df.groupby(\"certification_start_year\").agg(dict(workers_certified=\"sum\"))"
   ]
  },
  {
   "cell_type": "code",
   "execution_count": 11,
   "metadata": {},
   "outputs": [
    {
     "data": {
      "text/plain": [
       "<matplotlib.axes._subplots.AxesSubplot at 0x122665080>"
      ]
     },
     "execution_count": 11,
     "metadata": {},
     "output_type": "execute_result"
    },
    {
     "data": {
      "image/png": "[encoded data removed]",
      "text/plain": [
       "<matplotlib.figure.Figure at 0x1187c1358>"
      ]
     },
     "metadata": {},
     "output_type": "display_data"
    }
   ],
   "source": [
    "annual_usa.plot.bar(figsize=(15, 7))"
   ]
  },
  {
   "cell_type": "code",
   "execution_count": 12,
   "metadata": {},
   "outputs": [
    {
     "data": {
      "text/html": [
       "<div>\n",
       "<style scoped>\n",
       "    .dataframe tbody tr th:only-of-type {\n",
       "        vertical-align: middle;\n",
       "    }\n",
       "\n",
       "    .dataframe tbody tr th {\n",
       "        vertical-align: top;\n",
       "    }\n",
       "\n",
       "    .dataframe thead th {\n",
       "        text-align: right;\n",
       "    }\n",
       "</style>\n",
       "<table border=\"1\" class=\"dataframe\">\n",
       "  <thead>\n",
       "    <tr style=\"text-align: right;\">\n",
       "      <th></th>\n",
       "      <th>workers_certified</th>\n",
       "    </tr>\n",
       "    <tr>\n",
       "      <th>certification_start_year</th>\n",
       "      <th></th>\n",
       "    </tr>\n",
       "  </thead>\n",
       "  <tbody>\n",
       "    <tr>\n",
       "      <td>2008.0</td>\n",
       "      <td>91324</td>\n",
       "    </tr>\n",
       "    <tr>\n",
       "      <td>2009.0</td>\n",
       "      <td>86604</td>\n",
       "    </tr>\n",
       "    <tr>\n",
       "      <td>2010.0</td>\n",
       "      <td>75617</td>\n",
       "    </tr>\n",
       "    <tr>\n",
       "      <td>2011.0</td>\n",
       "      <td>77221</td>\n",
       "    </tr>\n",
       "    <tr>\n",
       "      <td>2012.0</td>\n",
       "      <td>86725</td>\n",
       "    </tr>\n",
       "    <tr>\n",
       "      <td>2013.0</td>\n",
       "      <td>100360</td>\n",
       "    </tr>\n",
       "    <tr>\n",
       "      <td>2014.0</td>\n",
       "      <td>119240</td>\n",
       "    </tr>\n",
       "    <tr>\n",
       "      <td>2015.0</td>\n",
       "      <td>140701</td>\n",
       "    </tr>\n",
       "    <tr>\n",
       "      <td>2016.0</td>\n",
       "      <td>166462</td>\n",
       "    </tr>\n",
       "    <tr>\n",
       "      <td>2017.0</td>\n",
       "      <td>202743</td>\n",
       "    </tr>\n",
       "    <tr>\n",
       "      <td>2018.0</td>\n",
       "      <td>246000</td>\n",
       "    </tr>\n",
       "    <tr>\n",
       "      <td>2019.0</td>\n",
       "      <td>183427</td>\n",
       "    </tr>\n",
       "  </tbody>\n",
       "</table>\n",
       "</div>"
      ],
      "text/plain": [
       "                          workers_certified\n",
       "certification_start_year                   \n",
       "2008.0                                91324\n",
       "2009.0                                86604\n",
       "2010.0                                75617\n",
       "2011.0                                77221\n",
       "2012.0                                86725\n",
       "2013.0                               100360\n",
       "2014.0                               119240\n",
       "2015.0                               140701\n",
       "2016.0                               166462\n",
       "2017.0                               202743\n",
       "2018.0                               246000\n",
       "2019.0                               183427"
      ]
     },
     "execution_count": 12,
     "metadata": {},
     "output_type": "execute_result"
    }
   ],
   "source": [
    "annual_usa"
   ]
  },
  {
   "cell_type": "markdown",
   "metadata": {},
   "source": [
    "### Finding: The number of H-2A visas in Ohio spiked this year, following a steady increase between 2013 and 2018."
   ]
  },
  {
   "cell_type": "markdown",
   "metadata": {},
   "source": [
    "Group the applications by state and year"
   ]
  },
  {
   "cell_type": "code",
   "execution_count": 13,
   "metadata": {
    "collapsed": true
   },
   "outputs": [],
   "source": [
    "state_totals = df.groupby([\n",
    "    'state',\n",
    "    'certification_start_year']\n",
    ").agg(dict(workers_certified=\"sum\"))"
   ]
  },
  {
   "cell_type": "markdown",
   "metadata": {},
   "source": [
    "Create a crosstab for a graphic and comparison"
   ]
  },
  {
   "cell_type": "code",
   "execution_count": 14,
   "metadata": {
    "collapsed": true
   },
   "outputs": [],
   "source": [
    "state_crosstab = state_totals.unstack(1).fillna(0)"
   ]
  },
  {
   "cell_type": "markdown",
   "metadata": {},
   "source": [
    "Output it for a graphic"
   ]
  },
  {
   "cell_type": "code",
   "execution_count": 15,
   "metadata": {
    "collapsed": true
   },
   "outputs": [],
   "source": [
    "state_crosstab.to_csv(\"./output/state_crosstab.csv\")"
   ]
  },
  {
   "cell_type": "markdown",
   "metadata": {},
   "source": [
    "Filter down to just Ohio's totals"
   ]
  },
  {
   "cell_type": "code",
   "execution_count": 16,
   "metadata": {
    "collapsed": true
   },
   "outputs": [],
   "source": [
    "ohio_totals = state_totals[state_totals.index.get_level_values(0) == 'OH']"
   ]
  },
  {
   "cell_type": "markdown",
   "metadata": {},
   "source": [
    "Ouput the annual totals"
   ]
  },
  {
   "cell_type": "code",
   "execution_count": 17,
   "metadata": {},
   "outputs": [
    {
     "data": {
      "text/plain": [
       "<matplotlib.axes._subplots.AxesSubplot at 0x115e9b320>"
      ]
     },
     "execution_count": 17,
     "metadata": {},
     "output_type": "execute_result"
    },
    {
     "data": {
      "image/png": "[encoded data removed]",
      "text/plain": [
       "<matplotlib.figure.Figure at 0x115f4cf60>"
      ]
     },
     "metadata": {},
     "output_type": "display_data"
    }
   ],
   "source": [
    "ohio_totals.workers_certified.plot.bar(figsize=(15, 7))"
   ]
  },
  {
   "cell_type": "code",
   "execution_count": 18,
   "metadata": {},
   "outputs": [
    {
     "data": {
      "text/html": [
       "<div>\n",
       "<style scoped>\n",
       "    .dataframe tbody tr th:only-of-type {\n",
       "        vertical-align: middle;\n",
       "    }\n",
       "\n",
       "    .dataframe tbody tr th {\n",
       "        vertical-align: top;\n",
       "    }\n",
       "\n",
       "    .dataframe thead th {\n",
       "        text-align: right;\n",
       "    }\n",
       "</style>\n",
       "<table border=\"1\" class=\"dataframe\">\n",
       "  <thead>\n",
       "    <tr style=\"text-align: right;\">\n",
       "      <th></th>\n",
       "      <th></th>\n",
       "      <th>workers_certified</th>\n",
       "    </tr>\n",
       "    <tr>\n",
       "      <th>state</th>\n",
       "      <th>certification_start_year</th>\n",
       "      <th></th>\n",
       "    </tr>\n",
       "  </thead>\n",
       "  <tbody>\n",
       "    <tr>\n",
       "      <td rowspan=\"12\" valign=\"top\">OH</td>\n",
       "      <td>2008.0</td>\n",
       "      <td>1153</td>\n",
       "    </tr>\n",
       "    <tr>\n",
       "      <td>2009.0</td>\n",
       "      <td>1216</td>\n",
       "    </tr>\n",
       "    <tr>\n",
       "      <td>2010.0</td>\n",
       "      <td>924</td>\n",
       "    </tr>\n",
       "    <tr>\n",
       "      <td>2011.0</td>\n",
       "      <td>733</td>\n",
       "    </tr>\n",
       "    <tr>\n",
       "      <td>2012.0</td>\n",
       "      <td>770</td>\n",
       "    </tr>\n",
       "    <tr>\n",
       "      <td>2013.0</td>\n",
       "      <td>762</td>\n",
       "    </tr>\n",
       "    <tr>\n",
       "      <td>2014.0</td>\n",
       "      <td>845</td>\n",
       "    </tr>\n",
       "    <tr>\n",
       "      <td>2015.0</td>\n",
       "      <td>1055</td>\n",
       "    </tr>\n",
       "    <tr>\n",
       "      <td>2016.0</td>\n",
       "      <td>1375</td>\n",
       "    </tr>\n",
       "    <tr>\n",
       "      <td>2017.0</td>\n",
       "      <td>1572</td>\n",
       "    </tr>\n",
       "    <tr>\n",
       "      <td>2018.0</td>\n",
       "      <td>1713</td>\n",
       "    </tr>\n",
       "    <tr>\n",
       "      <td>2019.0</td>\n",
       "      <td>2727</td>\n",
       "    </tr>\n",
       "  </tbody>\n",
       "</table>\n",
       "</div>"
      ],
      "text/plain": [
       "                                workers_certified\n",
       "state certification_start_year                   \n",
       "OH    2008.0                                 1153\n",
       "      2009.0                                 1216\n",
       "      2010.0                                  924\n",
       "      2011.0                                  733\n",
       "      2012.0                                  770\n",
       "      2013.0                                  762\n",
       "      2014.0                                  845\n",
       "      2015.0                                 1055\n",
       "      2016.0                                 1375\n",
       "      2017.0                                 1572\n",
       "      2018.0                                 1713\n",
       "      2019.0                                 2727"
      ]
     },
     "execution_count": 18,
     "metadata": {},
     "output_type": "execute_result"
    }
   ],
   "source": [
    "ohio_totals"
   ]
  },
  {
   "cell_type": "markdown",
   "metadata": {},
   "source": [
    "Trim down to the last five years of data and calculate Ohio's percentage change"
   ]
  },
  {
   "cell_type": "code",
   "execution_count": 19,
   "metadata": {
    "collapsed": true
   },
   "outputs": [],
   "source": [
    "ohio_last_five = ohio_totals[\n",
    "    (ohio_totals.index.get_level_values(1) > 2013) &\n",
    "    (ohio_totals.index.get_level_values(1) < 2019)\n",
    "].reset_index()"
   ]
  },
  {
   "cell_type": "code",
   "execution_count": 20,
   "metadata": {
    "collapsed": true
   },
   "outputs": [],
   "source": [
    "ohio_pct_change = ohio_last_five[[\n",
    "  'certification_start_year',\n",
    "  'workers_certified'\n",
    "]].set_index('certification_start_year').pct_change(\n",
    "    len(ohio_last_five)-1\n",
    ")"
   ]
  },
  {
   "cell_type": "code",
   "execution_count": 21,
   "metadata": {},
   "outputs": [
    {
     "name": "stdout",
     "output_type": "stream",
     "text": [
      "Percent change: 102.72%\n"
     ]
    }
   ],
   "source": [
    "print (\"Percent change: %s%%\" % round(ohio_pct_change.at[2018.0, 'workers_certified']*100, 2))"
   ]
  },
  {
   "cell_type": "markdown",
   "metadata": {},
   "source": [
    "Output for a graphic"
   ]
  },
  {
   "cell_type": "code",
   "execution_count": 22,
   "metadata": {
    "collapsed": true
   },
   "outputs": [],
   "source": [
    "ohio_totals.reset_index()[['certification_start_year', 'workers_certified']].to_csv(\n",
    "    \"./output/ohio-totals-graphics.csv\",\n",
    "    index=False\n",
    ")"
   ]
  },
  {
   "cell_type": "markdown",
   "metadata": {},
   "source": [
    "### Finding: This year's hiring pace surpasses last year's rate."
   ]
  },
  {
   "cell_type": "markdown",
   "metadata": {},
   "source": [
    "Convert the start date column to a datetime object"
   ]
  },
  {
   "cell_type": "code",
   "execution_count": 23,
   "metadata": {
    "collapsed": true
   },
   "outputs": [],
   "source": [
    "df.certification_start_date = pd.to_datetime(df.certification_start_date)"
   ]
  },
  {
   "cell_type": "markdown",
   "metadata": {},
   "source": [
    "Pull out the first eight months of this year versus last year"
   ]
  },
  {
   "cell_type": "code",
   "execution_count": 28,
   "metadata": {
    "collapsed": true
   },
   "outputs": [],
   "source": [
    "first_eight_19 = df[\n",
    "    (df.state == 'OH') &\n",
    "    (df.certification_start_date >= date(2019, 1, 1)) & \n",
    "    (df.certification_start_date < date(2019, 8, 1))\n",
    "]"
   ]
  },
  {
   "cell_type": "code",
   "execution_count": 29,
   "metadata": {
    "collapsed": true
   },
   "outputs": [],
   "source": [
    "first_eight_18 = df[\n",
    "    (df.state == 'OH') &\n",
    "    (df.certification_start_date >= date(2018, 1, 1)) & \n",
    "    (df.certification_start_date < date(2018, 8, 1))\n",
    "]"
   ]
  },
  {
   "cell_type": "markdown",
   "metadata": {},
   "source": [
    "Compare the total hires in that period"
   ]
  },
  {
   "cell_type": "code",
   "execution_count": 30,
   "metadata": {},
   "outputs": [
    {
     "data": {
      "text/plain": [
       "1428"
      ]
     },
     "execution_count": 30,
     "metadata": {},
     "output_type": "execute_result"
    }
   ],
   "source": [
    "first_eight_18.workers_certified.sum()"
   ]
  },
  {
   "cell_type": "code",
   "execution_count": 31,
   "metadata": {},
   "outputs": [
    {
     "data": {
      "text/plain": [
       "2678"
      ]
     },
     "execution_count": 31,
     "metadata": {},
     "output_type": "execute_result"
    }
   ],
   "source": [
    "first_eight_19.workers_certified.sum()"
   ]
  },
  {
   "cell_type": "markdown",
   "metadata": {},
   "source": [
    "### Finding: Northern Ohio counties are driving the growth"
   ]
  },
  {
   "cell_type": "markdown",
   "metadata": {},
   "source": [
    "Read in all \"sub\" cases rather than the master cases. This allows for the farms where workers are actually employed to be mapped, rather than the the \"master cases\" of middlemen who sometimes file the \"master\" applications. "
   ]
  },
  {
   "cell_type": "code",
   "execution_count": 32,
   "metadata": {
    "collapsed": true
   },
   "outputs": [],
   "source": [
    "combined_df = pd.read_csv(os.path.join(output_dir, \"geocoded_all_cases.csv\"))"
   ]
  },
  {
   "cell_type": "markdown",
   "metadata": {},
   "source": [
    "Convert to a geodataframe."
   ]
  },
  {
   "cell_type": "code",
   "execution_count": 33,
   "metadata": {
    "collapsed": true
   },
   "outputs": [],
   "source": [
    "def create_point(row):\n",
    "    if row.lng and row.lat:\n",
    "        return Point(row.lng, row.lat)\n",
    "    return ''"
   ]
  },
  {
   "cell_type": "code",
   "execution_count": 34,
   "metadata": {
    "collapsed": true
   },
   "outputs": [],
   "source": [
    "combined_df['geometry'] = combined_df.apply(create_point, axis=1)"
   ]
  },
  {
   "cell_type": "code",
   "execution_count": 35,
   "metadata": {
    "collapsed": true
   },
   "outputs": [],
   "source": [
    "gdf = gp.GeoDataFrame(combined_df)"
   ]
  },
  {
   "cell_type": "code",
   "execution_count": 36,
   "metadata": {
    "collapsed": true
   },
   "outputs": [],
   "source": [
    "gdf.crs = {'init' :'epsg:4269'}"
   ]
  },
  {
   "cell_type": "markdown",
   "metadata": {},
   "source": [
    "Exclude cases that could not be mapped."
   ]
  },
  {
   "cell_type": "code",
   "execution_count": 37,
   "metadata": {
    "collapsed": true
   },
   "outputs": [],
   "source": [
    "valid_gdf = gdf[~gdf.lat.isnull()]"
   ]
  },
  {
   "cell_type": "markdown",
   "metadata": {},
   "source": [
    "Spatial join with county polygons"
   ]
  },
  {
   "cell_type": "code",
   "execution_count": 38,
   "metadata": {
    "collapsed": true
   },
   "outputs": [],
   "source": [
    "counties = gp.read_file(os.path.join(input_dir, \"cb_2016_us_county_5m.shp\"))"
   ]
  },
  {
   "cell_type": "code",
   "execution_count": 39,
   "metadata": {
    "collapsed": true
   },
   "outputs": [],
   "source": [
    "gdf_with_county = gp.sjoin(counties, valid_gdf, how=\"inner\")"
   ]
  },
  {
   "cell_type": "code",
   "execution_count": 42,
   "metadata": {},
   "outputs": [
    {
     "data": {
      "text/html": [
       "<div>\n",
       "<style scoped>\n",
       "    .dataframe tbody tr th:only-of-type {\n",
       "        vertical-align: middle;\n",
       "    }\n",
       "\n",
       "    .dataframe tbody tr th {\n",
       "        vertical-align: top;\n",
       "    }\n",
       "\n",
       "    .dataframe thead th {\n",
       "        text-align: right;\n",
       "    }\n",
       "</style>\n",
       "<table border=\"1\" class=\"dataframe\">\n",
       "  <thead>\n",
       "    <tr style=\"text-align: right;\">\n",
       "      <th></th>\n",
       "      <th>STATEFP</th>\n",
       "      <th>COUNTYFP</th>\n",
       "      <th>COUNTYNS</th>\n",
       "      <th>AFFGEOID</th>\n",
       "      <th>GEOID</th>\n",
       "      <th>NAME</th>\n",
       "      <th>LSAD</th>\n",
       "      <th>ALAND</th>\n",
       "      <th>AWATER</th>\n",
       "      <th>geometry</th>\n",
       "      <th>index_right</th>\n",
       "      <th>case_number</th>\n",
       "      <th>case_status</th>\n",
       "      <th>certification_start_date</th>\n",
       "      <th>certification_start_year</th>\n",
       "      <th>city</th>\n",
       "      <th>crop</th>\n",
       "      <th>employer</th>\n",
       "      <th>fiscal_year</th>\n",
       "      <th>job_title</th>\n",
       "      <th>master_case</th>\n",
       "      <th>new_id</th>\n",
       "      <th>oregon_crop</th>\n",
       "      <th>row_number</th>\n",
       "      <th>state</th>\n",
       "      <th>sub_case</th>\n",
       "      <th>workers_certified</th>\n",
       "      <th>workers_subcases</th>\n",
       "      <th>net_workers</th>\n",
       "      <th>geocoder_address</th>\n",
       "      <th>lat</th>\n",
       "      <th>lng</th>\n",
       "      <th>geocoder_type</th>\n",
       "    </tr>\n",
       "  </thead>\n",
       "  <tbody>\n",
       "    <tr>\n",
       "      <td>0</td>\n",
       "      <td>04</td>\n",
       "      <td>015</td>\n",
       "      <td>00025445</td>\n",
       "      <td>0500000US04015</td>\n",
       "      <td>04015</td>\n",
       "      <td>Mohave</td>\n",
       "      <td>06</td>\n",
       "      <td>34475567011</td>\n",
       "      <td>387344307</td>\n",
       "      <td>POLYGON ((-114.755618 36.087166, -114.753638 3...</td>\n",
       "      <td>90069</td>\n",
       "      <td>C-11277-30159</td>\n",
       "      <td>Certified - Full</td>\n",
       "      <td>2011-12-10</td>\n",
       "      <td>2011.0</td>\n",
       "      <td>BEAVER DAM</td>\n",
       "      <td>Sheepherder</td>\n",
       "      <td>DAVID EARL/UPPER CREEK RANCH</td>\n",
       "      <td>2012</td>\n",
       "      <td>FARMWORKERS, FARM AND RANCH ANIMALS</td>\n",
       "      <td>NaN</td>\n",
       "      <td>2012-221</td>\n",
       "      <td>Sheep</td>\n",
       "      <td>221</td>\n",
       "      <td>NV</td>\n",
       "      <td>True</td>\n",
       "      <td>2</td>\n",
       "      <td>0.0</td>\n",
       "      <td>2.0</td>\n",
       "      <td>Beaver Dam, AZ 86432, USA</td>\n",
       "      <td>36.914262</td>\n",
       "      <td>-113.947699</td>\n",
       "      <td>APPROXIMATE</td>\n",
       "    </tr>\n",
       "    <tr>\n",
       "      <td>0</td>\n",
       "      <td>04</td>\n",
       "      <td>015</td>\n",
       "      <td>00025445</td>\n",
       "      <td>0500000US04015</td>\n",
       "      <td>04015</td>\n",
       "      <td>Mohave</td>\n",
       "      <td>06</td>\n",
       "      <td>34475567011</td>\n",
       "      <td>387344307</td>\n",
       "      <td>POLYGON ((-114.755618 36.087166, -114.753638 3...</td>\n",
       "      <td>24545</td>\n",
       "      <td>H-300-13007-017676</td>\n",
       "      <td>Certified - Full</td>\n",
       "      <td>2013-02-28</td>\n",
       "      <td>2013.0</td>\n",
       "      <td>Mohave Valley</td>\n",
       "      <td>NaN</td>\n",
       "      <td>4-B FARMS</td>\n",
       "      <td>2013</td>\n",
       "      <td>Farm worker</td>\n",
       "      <td>False</td>\n",
       "      <td>2013-1781</td>\n",
       "      <td>NaN</td>\n",
       "      <td>1781</td>\n",
       "      <td>AZ</td>\n",
       "      <td>NaN</td>\n",
       "      <td>3</td>\n",
       "      <td>0.0</td>\n",
       "      <td>3.0</td>\n",
       "      <td>Mohave Valley, AZ, United States</td>\n",
       "      <td>34.923840</td>\n",
       "      <td>-114.597862</td>\n",
       "      <td>bing</td>\n",
       "    </tr>\n",
       "    <tr>\n",
       "      <td>0</td>\n",
       "      <td>04</td>\n",
       "      <td>015</td>\n",
       "      <td>00025445</td>\n",
       "      <td>0500000US04015</td>\n",
       "      <td>04015</td>\n",
       "      <td>Mohave</td>\n",
       "      <td>06</td>\n",
       "      <td>34475567011</td>\n",
       "      <td>387344307</td>\n",
       "      <td>POLYGON ((-114.755618 36.087166, -114.753638 3...</td>\n",
       "      <td>19897</td>\n",
       "      <td>C-12023-32079</td>\n",
       "      <td>Certified - Full</td>\n",
       "      <td>2012-03-08</td>\n",
       "      <td>2012.0</td>\n",
       "      <td>MOHAVE VALLEY</td>\n",
       "      <td>Alfalfa</td>\n",
       "      <td>4B FARMS</td>\n",
       "      <td>2012</td>\n",
       "      <td>FARMWORKER</td>\n",
       "      <td>False</td>\n",
       "      <td>2012-2559</td>\n",
       "      <td>Alfalfa</td>\n",
       "      <td>2559</td>\n",
       "      <td>AZ</td>\n",
       "      <td>NaN</td>\n",
       "      <td>3</td>\n",
       "      <td>0.0</td>\n",
       "      <td>3.0</td>\n",
       "      <td>Mohave Valley, AZ, United States</td>\n",
       "      <td>34.923840</td>\n",
       "      <td>-114.597862</td>\n",
       "      <td>bing</td>\n",
       "    </tr>\n",
       "    <tr>\n",
       "      <td>0</td>\n",
       "      <td>04</td>\n",
       "      <td>015</td>\n",
       "      <td>00025445</td>\n",
       "      <td>0500000US04015</td>\n",
       "      <td>04015</td>\n",
       "      <td>Mohave</td>\n",
       "      <td>06</td>\n",
       "      <td>34475567011</td>\n",
       "      <td>387344307</td>\n",
       "      <td>POLYGON ((-114.755618 36.087166, -114.753638 3...</td>\n",
       "      <td>25225</td>\n",
       "      <td>H-300-13023-165413</td>\n",
       "      <td>Certified - Full</td>\n",
       "      <td>2013-03-25</td>\n",
       "      <td>2013.0</td>\n",
       "      <td>Mohave Valley</td>\n",
       "      <td>NaN</td>\n",
       "      <td>DORAME FARMS INC.</td>\n",
       "      <td>2013</td>\n",
       "      <td>Farmworker</td>\n",
       "      <td>False</td>\n",
       "      <td>2013-2648</td>\n",
       "      <td>NaN</td>\n",
       "      <td>2648</td>\n",
       "      <td>AZ</td>\n",
       "      <td>NaN</td>\n",
       "      <td>4</td>\n",
       "      <td>0.0</td>\n",
       "      <td>4.0</td>\n",
       "      <td>Mohave Valley, AZ, United States</td>\n",
       "      <td>34.923840</td>\n",
       "      <td>-114.597862</td>\n",
       "      <td>bing</td>\n",
       "    </tr>\n",
       "    <tr>\n",
       "      <td>1</td>\n",
       "      <td>12</td>\n",
       "      <td>035</td>\n",
       "      <td>00308547</td>\n",
       "      <td>0500000US12035</td>\n",
       "      <td>12035</td>\n",
       "      <td>Flagler</td>\n",
       "      <td>06</td>\n",
       "      <td>1257365642</td>\n",
       "      <td>221047161</td>\n",
       "      <td>POLYGON ((-81.52365999999999 29.622432, -81.32...</td>\n",
       "      <td>38159</td>\n",
       "      <td>H-300-15236-295513</td>\n",
       "      <td>DETERMINATION ISSUED - CERTIFICATION</td>\n",
       "      <td>2015-10-02</td>\n",
       "      <td>2015.0</td>\n",
       "      <td>Bunnell</td>\n",
       "      <td>Vegetables (Verduras)</td>\n",
       "      <td>Walter P. Rawl &amp; Sons Inc</td>\n",
       "      <td>2015</td>\n",
       "      <td>Farmworker; Diversified</td>\n",
       "      <td>False</td>\n",
       "      <td>2015-4720</td>\n",
       "      <td>Vegetables (Verduras)</td>\n",
       "      <td>4720</td>\n",
       "      <td>FL</td>\n",
       "      <td>NaN</td>\n",
       "      <td>24</td>\n",
       "      <td>0.0</td>\n",
       "      <td>24.0</td>\n",
       "      <td>Bunnell, FL, USA</td>\n",
       "      <td>29.466086</td>\n",
       "      <td>-81.257842</td>\n",
       "      <td>APPROXIMATE</td>\n",
       "    </tr>\n",
       "  </tbody>\n",
       "</table>\n",
       "</div>"
      ],
      "text/plain": [
       "  STATEFP COUNTYFP  COUNTYNS        AFFGEOID  GEOID     NAME LSAD  \\\n",
       "0      04      015  00025445  0500000US04015  04015   Mohave   06   \n",
       "0      04      015  00025445  0500000US04015  04015   Mohave   06   \n",
       "0      04      015  00025445  0500000US04015  04015   Mohave   06   \n",
       "0      04      015  00025445  0500000US04015  04015   Mohave   06   \n",
       "1      12      035  00308547  0500000US12035  12035  Flagler   06   \n",
       "\n",
       "         ALAND     AWATER                                           geometry  \\\n",
       "0  34475567011  387344307  POLYGON ((-114.755618 36.087166, -114.753638 3...   \n",
       "0  34475567011  387344307  POLYGON ((-114.755618 36.087166, -114.753638 3...   \n",
       "0  34475567011  387344307  POLYGON ((-114.755618 36.087166, -114.753638 3...   \n",
       "0  34475567011  387344307  POLYGON ((-114.755618 36.087166, -114.753638 3...   \n",
       "1   1257365642  221047161  POLYGON ((-81.52365999999999 29.622432, -81.32...   \n",
       "\n",
       "   index_right         case_number                           case_status  \\\n",
       "0        90069       C-11277-30159                      Certified - Full   \n",
       "0        24545  H-300-13007-017676                      Certified - Full   \n",
       "0        19897       C-12023-32079                      Certified - Full   \n",
       "0        25225  H-300-13023-165413                      Certified - Full   \n",
       "1        38159  H-300-15236-295513  DETERMINATION ISSUED - CERTIFICATION   \n",
       "\n",
       "  certification_start_date  certification_start_year           city  \\\n",
       "0               2011-12-10                    2011.0     BEAVER DAM   \n",
       "0               2013-02-28                    2013.0  Mohave Valley   \n",
       "0               2012-03-08                    2012.0  MOHAVE VALLEY   \n",
       "0               2013-03-25                    2013.0  Mohave Valley   \n",
       "1               2015-10-02                    2015.0        Bunnell   \n",
       "\n",
       "                    crop                      employer  fiscal_year  \\\n",
       "0            Sheepherder  DAVID EARL/UPPER CREEK RANCH         2012   \n",
       "0                    NaN                     4-B FARMS         2013   \n",
       "0                Alfalfa                      4B FARMS         2012   \n",
       "0                    NaN             DORAME FARMS INC.         2013   \n",
       "1  Vegetables (Verduras)     Walter P. Rawl & Sons Inc         2015   \n",
       "\n",
       "                             job_title master_case     new_id  \\\n",
       "0  FARMWORKERS, FARM AND RANCH ANIMALS         NaN   2012-221   \n",
       "0                          Farm worker       False  2013-1781   \n",
       "0                           FARMWORKER       False  2012-2559   \n",
       "0                           Farmworker       False  2013-2648   \n",
       "1              Farmworker; Diversified       False  2015-4720   \n",
       "\n",
       "             oregon_crop  row_number state sub_case  workers_certified  \\\n",
       "0                  Sheep         221    NV     True                  2   \n",
       "0                    NaN        1781    AZ      NaN                  3   \n",
       "0                Alfalfa        2559    AZ      NaN                  3   \n",
       "0                    NaN        2648    AZ      NaN                  4   \n",
       "1  Vegetables (Verduras)        4720    FL      NaN                 24   \n",
       "\n",
       "   workers_subcases  net_workers                  geocoder_address        lat  \\\n",
       "0               0.0          2.0         Beaver Dam, AZ 86432, USA  36.914262   \n",
       "0               0.0          3.0  Mohave Valley, AZ, United States  34.923840   \n",
       "0               0.0          3.0  Mohave Valley, AZ, United States  34.923840   \n",
       "0               0.0          4.0  Mohave Valley, AZ, United States  34.923840   \n",
       "1               0.0         24.0                  Bunnell, FL, USA  29.466086   \n",
       "\n",
       "          lng geocoder_type  \n",
       "0 -113.947699   APPROXIMATE  \n",
       "0 -114.597862          bing  \n",
       "0 -114.597862          bing  \n",
       "0 -114.597862          bing  \n",
       "1  -81.257842   APPROXIMATE  "
      ]
     },
     "execution_count": 42,
     "metadata": {},
     "output_type": "execute_result"
    }
   ],
   "source": [
    "gdf_with_county.head()"
   ]
  },
  {
   "cell_type": "markdown",
   "metadata": {},
   "source": [
    "Filter to Ohio"
   ]
  },
  {
   "cell_type": "code",
   "execution_count": 43,
   "metadata": {
    "collapsed": true
   },
   "outputs": [],
   "source": [
    "ohio_gdf = gdf_with_county[gdf_with_county.STATEFP == '39']"
   ]
  },
  {
   "cell_type": "markdown",
   "metadata": {},
   "source": [
    "Create a crosstab of the total number of workers by year in all Ohio counties"
   ]
  },
  {
   "cell_type": "code",
   "execution_count": 44,
   "metadata": {
    "collapsed": true
   },
   "outputs": [],
   "source": [
    "county_crosstab = ohio_gdf.groupby([\n",
    "    'NAME',\n",
    "    'certification_start_year'\n",
    "]).net_workers.sum().reset_index().set_index([\n",
    "    \"NAME\",\n",
    "    \"certification_start_year\"\n",
    "]).unstack(1).fillna(0)"
   ]
  },
  {
   "cell_type": "markdown",
   "metadata": {},
   "source": [
    "Strip all the pandas chrome off the crosstab"
   ]
  },
  {
   "cell_type": "code",
   "execution_count": 45,
   "metadata": {
    "collapsed": true
   },
   "outputs": [],
   "source": [
    "county_crosstab = county_crosstab.reset_index()\n",
    "county_crosstab.columns = county_crosstab.columns.droplevel(0)\n",
    "county_crosstab = county_crosstab.rename_axis(None, axis=1)\n",
    "county_crosstab = county_crosstab.set_index(\"\")"
   ]
  },
  {
   "cell_type": "markdown",
   "metadata": {},
   "source": [
    "Calculate the change in each county"
   ]
  },
  {
   "cell_type": "code",
   "execution_count": 46,
   "metadata": {
    "collapsed": true
   },
   "outputs": [],
   "source": [
    "county_crosstab['change_13to18'] = county_crosstab.apply(\n",
    "    lambda x: x[2018.0] - x[2013.0],\n",
    "    axis=1\n",
    ")"
   ]
  },
  {
   "cell_type": "markdown",
   "metadata": {},
   "source": [
    "Rank them by their change"
   ]
  },
  {
   "cell_type": "code",
   "execution_count": 47,
   "metadata": {},
   "outputs": [
    {
     "data": {
      "text/html": [
       "<div>\n",
       "<style scoped>\n",
       "    .dataframe tbody tr th:only-of-type {\n",
       "        vertical-align: middle;\n",
       "    }\n",
       "\n",
       "    .dataframe tbody tr th {\n",
       "        vertical-align: top;\n",
       "    }\n",
       "\n",
       "    .dataframe thead th {\n",
       "        text-align: right;\n",
       "    }\n",
       "</style>\n",
       "<table border=\"1\" class=\"dataframe\">\n",
       "  <thead>\n",
       "    <tr style=\"text-align: right;\">\n",
       "      <th></th>\n",
       "      <th>2008.0</th>\n",
       "      <th>2009.0</th>\n",
       "      <th>2010.0</th>\n",
       "      <th>2011.0</th>\n",
       "      <th>2012.0</th>\n",
       "      <th>2013.0</th>\n",
       "      <th>2014.0</th>\n",
       "      <th>2015.0</th>\n",
       "      <th>2016.0</th>\n",
       "      <th>2017.0</th>\n",
       "      <th>2018.0</th>\n",
       "      <th>2019.0</th>\n",
       "      <th>change_13to18</th>\n",
       "    </tr>\n",
       "    <tr>\n",
       "      <th></th>\n",
       "      <th></th>\n",
       "      <th></th>\n",
       "      <th></th>\n",
       "      <th></th>\n",
       "      <th></th>\n",
       "      <th></th>\n",
       "      <th></th>\n",
       "      <th></th>\n",
       "      <th></th>\n",
       "      <th></th>\n",
       "      <th></th>\n",
       "      <th></th>\n",
       "      <th></th>\n",
       "    </tr>\n",
       "  </thead>\n",
       "  <tbody>\n",
       "    <tr>\n",
       "      <td>Erie</td>\n",
       "      <td>340.0</td>\n",
       "      <td>20.0</td>\n",
       "      <td>20.0</td>\n",
       "      <td>26.0</td>\n",
       "      <td>25.0</td>\n",
       "      <td>25.0</td>\n",
       "      <td>29.0</td>\n",
       "      <td>32.0</td>\n",
       "      <td>32.0</td>\n",
       "      <td>146.0</td>\n",
       "      <td>178.0</td>\n",
       "      <td>48.0</td>\n",
       "      <td>153.0</td>\n",
       "    </tr>\n",
       "    <tr>\n",
       "      <td>Fulton</td>\n",
       "      <td>0.0</td>\n",
       "      <td>0.0</td>\n",
       "      <td>0.0</td>\n",
       "      <td>0.0</td>\n",
       "      <td>0.0</td>\n",
       "      <td>0.0</td>\n",
       "      <td>0.0</td>\n",
       "      <td>28.0</td>\n",
       "      <td>72.0</td>\n",
       "      <td>78.0</td>\n",
       "      <td>80.0</td>\n",
       "      <td>70.0</td>\n",
       "      <td>80.0</td>\n",
       "    </tr>\n",
       "    <tr>\n",
       "      <td>Lake</td>\n",
       "      <td>225.0</td>\n",
       "      <td>257.0</td>\n",
       "      <td>292.0</td>\n",
       "      <td>201.0</td>\n",
       "      <td>240.0</td>\n",
       "      <td>202.0</td>\n",
       "      <td>181.0</td>\n",
       "      <td>65.0</td>\n",
       "      <td>271.0</td>\n",
       "      <td>292.0</td>\n",
       "      <td>264.0</td>\n",
       "      <td>271.0</td>\n",
       "      <td>62.0</td>\n",
       "    </tr>\n",
       "    <tr>\n",
       "      <td>Fayette</td>\n",
       "      <td>0.0</td>\n",
       "      <td>0.0</td>\n",
       "      <td>0.0</td>\n",
       "      <td>2.0</td>\n",
       "      <td>0.0</td>\n",
       "      <td>0.0</td>\n",
       "      <td>0.0</td>\n",
       "      <td>20.0</td>\n",
       "      <td>6.0</td>\n",
       "      <td>9.0</td>\n",
       "      <td>57.0</td>\n",
       "      <td>60.0</td>\n",
       "      <td>57.0</td>\n",
       "    </tr>\n",
       "    <tr>\n",
       "      <td>Seneca</td>\n",
       "      <td>0.0</td>\n",
       "      <td>0.0</td>\n",
       "      <td>0.0</td>\n",
       "      <td>0.0</td>\n",
       "      <td>0.0</td>\n",
       "      <td>0.0</td>\n",
       "      <td>42.0</td>\n",
       "      <td>43.0</td>\n",
       "      <td>181.0</td>\n",
       "      <td>48.0</td>\n",
       "      <td>49.0</td>\n",
       "      <td>47.0</td>\n",
       "      <td>49.0</td>\n",
       "    </tr>\n",
       "    <tr>\n",
       "      <td>Auglaize</td>\n",
       "      <td>0.0</td>\n",
       "      <td>0.0</td>\n",
       "      <td>0.0</td>\n",
       "      <td>0.0</td>\n",
       "      <td>0.0</td>\n",
       "      <td>0.0</td>\n",
       "      <td>0.0</td>\n",
       "      <td>0.0</td>\n",
       "      <td>46.0</td>\n",
       "      <td>47.0</td>\n",
       "      <td>47.0</td>\n",
       "      <td>2.0</td>\n",
       "      <td>47.0</td>\n",
       "    </tr>\n",
       "    <tr>\n",
       "      <td>Pickaway</td>\n",
       "      <td>3.0</td>\n",
       "      <td>4.0</td>\n",
       "      <td>4.0</td>\n",
       "      <td>14.0</td>\n",
       "      <td>24.0</td>\n",
       "      <td>24.0</td>\n",
       "      <td>31.0</td>\n",
       "      <td>47.0</td>\n",
       "      <td>87.0</td>\n",
       "      <td>61.0</td>\n",
       "      <td>71.0</td>\n",
       "      <td>73.0</td>\n",
       "      <td>47.0</td>\n",
       "    </tr>\n",
       "    <tr>\n",
       "      <td>Sandusky</td>\n",
       "      <td>0.0</td>\n",
       "      <td>0.0</td>\n",
       "      <td>0.0</td>\n",
       "      <td>0.0</td>\n",
       "      <td>0.0</td>\n",
       "      <td>0.0</td>\n",
       "      <td>0.0</td>\n",
       "      <td>24.0</td>\n",
       "      <td>32.0</td>\n",
       "      <td>37.0</td>\n",
       "      <td>40.0</td>\n",
       "      <td>40.0</td>\n",
       "      <td>40.0</td>\n",
       "    </tr>\n",
       "    <tr>\n",
       "      <td>Putnam</td>\n",
       "      <td>0.0</td>\n",
       "      <td>0.0</td>\n",
       "      <td>0.0</td>\n",
       "      <td>0.0</td>\n",
       "      <td>0.0</td>\n",
       "      <td>0.0</td>\n",
       "      <td>16.0</td>\n",
       "      <td>0.0</td>\n",
       "      <td>11.0</td>\n",
       "      <td>27.0</td>\n",
       "      <td>27.0</td>\n",
       "      <td>30.0</td>\n",
       "      <td>27.0</td>\n",
       "    </tr>\n",
       "    <tr>\n",
       "      <td>Stark</td>\n",
       "      <td>12.0</td>\n",
       "      <td>42.0</td>\n",
       "      <td>42.0</td>\n",
       "      <td>40.0</td>\n",
       "      <td>40.0</td>\n",
       "      <td>36.0</td>\n",
       "      <td>42.0</td>\n",
       "      <td>28.0</td>\n",
       "      <td>33.0</td>\n",
       "      <td>53.0</td>\n",
       "      <td>60.0</td>\n",
       "      <td>70.0</td>\n",
       "      <td>24.0</td>\n",
       "    </tr>\n",
       "  </tbody>\n",
       "</table>\n",
       "</div>"
      ],
      "text/plain": [
       "          2008.0  2009.0  2010.0  2011.0  2012.0  2013.0  2014.0  2015.0  \\\n",
       "                                                                           \n",
       "Erie       340.0    20.0    20.0    26.0    25.0    25.0    29.0    32.0   \n",
       "Fulton       0.0     0.0     0.0     0.0     0.0     0.0     0.0    28.0   \n",
       "Lake       225.0   257.0   292.0   201.0   240.0   202.0   181.0    65.0   \n",
       "Fayette      0.0     0.0     0.0     2.0     0.0     0.0     0.0    20.0   \n",
       "Seneca       0.0     0.0     0.0     0.0     0.0     0.0    42.0    43.0   \n",
       "Auglaize     0.0     0.0     0.0     0.0     0.0     0.0     0.0     0.0   \n",
       "Pickaway     3.0     4.0     4.0    14.0    24.0    24.0    31.0    47.0   \n",
       "Sandusky     0.0     0.0     0.0     0.0     0.0     0.0     0.0    24.0   \n",
       "Putnam       0.0     0.0     0.0     0.0     0.0     0.0    16.0     0.0   \n",
       "Stark       12.0    42.0    42.0    40.0    40.0    36.0    42.0    28.0   \n",
       "\n",
       "          2016.0  2017.0  2018.0  2019.0  change_13to18  \n",
       "                                                         \n",
       "Erie        32.0   146.0   178.0    48.0          153.0  \n",
       "Fulton      72.0    78.0    80.0    70.0           80.0  \n",
       "Lake       271.0   292.0   264.0   271.0           62.0  \n",
       "Fayette      6.0     9.0    57.0    60.0           57.0  \n",
       "Seneca     181.0    48.0    49.0    47.0           49.0  \n",
       "Auglaize    46.0    47.0    47.0     2.0           47.0  \n",
       "Pickaway    87.0    61.0    71.0    73.0           47.0  \n",
       "Sandusky    32.0    37.0    40.0    40.0           40.0  \n",
       "Putnam      11.0    27.0    27.0    30.0           27.0  \n",
       "Stark       33.0    53.0    60.0    70.0           24.0  "
      ]
     },
     "execution_count": 47,
     "metadata": {},
     "output_type": "execute_result"
    }
   ],
   "source": [
    "county_crosstab.sort_values(\"change_13to18\", ascending=False).head(10)"
   ]
  },
  {
   "cell_type": "markdown",
   "metadata": {},
   "source": [
    "Output that for a graphic"
   ]
  },
  {
   "cell_type": "code",
   "execution_count": 48,
   "metadata": {
    "collapsed": true
   },
   "outputs": [],
   "source": [
    "county_crosstab.to_csv(os.path.join(output_dir, \"county-crosstab.csv\"), encoding=\"utf-8\")"
   ]
  },
  {
   "cell_type": "markdown",
   "metadata": {},
   "source": [
    "Total up the workers by city for a map"
   ]
  },
  {
   "cell_type": "code",
   "execution_count": 49,
   "metadata": {
    "collapsed": true
   },
   "outputs": [],
   "source": [
    "ohio_location_totals = ohio_gdf.groupby([\n",
    "    \"certification_start_year\",\n",
    "    \"geocoder_address\",\n",
    "    \"lat\",\n",
    "    'lng',\n",
    "]).net_workers.sum().reset_index()"
   ]
  },
  {
   "cell_type": "code",
   "execution_count": 50,
   "metadata": {
    "collapsed": true
   },
   "outputs": [],
   "source": [
    "ohio_location_totals['certification_start_year'] = ohio_location_totals.certification_start_year.astype(int)"
   ]
  },
  {
   "cell_type": "code",
   "execution_count": 51,
   "metadata": {
    "collapsed": true
   },
   "outputs": [],
   "source": [
    "ohio_location_totals['net_workers'] = ohio_location_totals.net_workers.astype(int)"
   ]
  },
  {
   "cell_type": "code",
   "execution_count": 52,
   "metadata": {
    "collapsed": true
   },
   "outputs": [],
   "source": [
    "ohio_location_totals.columns = [\n",
    "    'year',\n",
    "    'address',\n",
    "    'lat',\n",
    "    'lng',\n",
    "    'workers'\n",
    "]"
   ]
  },
  {
   "cell_type": "markdown",
   "metadata": {},
   "source": [
    "Output that for a graphic"
   ]
  },
  {
   "cell_type": "code",
   "execution_count": 53,
   "metadata": {
    "collapsed": true
   },
   "outputs": [],
   "source": [
    "ohio_location_totals.to_csv(os.path.join(output_dir, \"ohio_totals_by_location.csv\"), index=False)"
   ]
  },
  {
   "cell_type": "markdown",
   "metadata": {},
   "source": [
    "### Finding: General Farm Laborers and fruit/vegetable farmworkers have accounted for most of the new workers in Ohio"
   ]
  },
  {
   "cell_type": "markdown",
   "metadata": {},
   "source": [
    "Regroup subcases in the state by our cleaned up version of the crop column"
   ]
  },
  {
   "cell_type": "code",
   "execution_count": 54,
   "metadata": {
    "collapsed": true
   },
   "outputs": [],
   "source": [
    "ohio_crops = ohio_gdf.groupby([\n",
    "    \"certification_start_year\",\n",
    "    \"oregon_crop\"\n",
    "]).net_workers.sum().reset_index().sort_values(\"net_workers\", ascending=False)"
   ]
  },
  {
   "cell_type": "markdown",
   "metadata": {},
   "source": [
    "Create a crosstab by year"
   ]
  },
  {
   "cell_type": "code",
   "execution_count": 55,
   "metadata": {
    "collapsed": true
   },
   "outputs": [],
   "source": [
    "crops_crosstab = ohio_crops.set_index([\n",
    "    \"certification_start_year\",\n",
    "    \"oregon_crop\"\n",
    "]).unstack(0).fillna(0)"
   ]
  },
  {
   "cell_type": "markdown",
   "metadata": {},
   "source": [
    "Again, strip the pandas chrome from the crosstab"
   ]
  },
  {
   "cell_type": "code",
   "execution_count": 56,
   "metadata": {
    "collapsed": true
   },
   "outputs": [],
   "source": [
    "crops_crosstab = crops_crosstab.reset_index()\n",
    "crops_crosstab.columns = crops_crosstab.columns.droplevel(0)\n",
    "crops_crosstab = crops_crosstab.rename_axis(None, axis=1)\n",
    "crops_crosstab = crops_crosstab.set_index(\"\")"
   ]
  },
  {
   "cell_type": "markdown",
   "metadata": {
    "collapsed": true
   },
   "source": [
    "Calculate the change over the past five years"
   ]
  },
  {
   "cell_type": "code",
   "execution_count": 61,
   "metadata": {
    "collapsed": true
   },
   "outputs": [],
   "source": [
    "crops_crosstab['change_15to19'] = crops_crosstab.apply(\n",
    "    lambda x: x[2019.0] - x[2015.0],\n",
    "    axis=1\n",
    ")"
   ]
  },
  {
   "cell_type": "markdown",
   "metadata": {},
   "source": [
    "Rank the crops"
   ]
  },
  {
   "cell_type": "code",
   "execution_count": 62,
   "metadata": {},
   "outputs": [
    {
     "data": {
      "text/html": [
       "<div>\n",
       "<style scoped>\n",
       "    .dataframe tbody tr th:only-of-type {\n",
       "        vertical-align: middle;\n",
       "    }\n",
       "\n",
       "    .dataframe tbody tr th {\n",
       "        vertical-align: top;\n",
       "    }\n",
       "\n",
       "    .dataframe thead th {\n",
       "        text-align: right;\n",
       "    }\n",
       "</style>\n",
       "<table border=\"1\" class=\"dataframe\">\n",
       "  <thead>\n",
       "    <tr style=\"text-align: right;\">\n",
       "      <th></th>\n",
       "      <th>2011.0</th>\n",
       "      <th>2012.0</th>\n",
       "      <th>2015.0</th>\n",
       "      <th>2016.0</th>\n",
       "      <th>2017.0</th>\n",
       "      <th>2018.0</th>\n",
       "      <th>2019.0</th>\n",
       "      <th>change_15to19</th>\n",
       "    </tr>\n",
       "    <tr>\n",
       "      <th></th>\n",
       "      <th></th>\n",
       "      <th></th>\n",
       "      <th></th>\n",
       "      <th></th>\n",
       "      <th></th>\n",
       "      <th></th>\n",
       "      <th></th>\n",
       "      <th></th>\n",
       "    </tr>\n",
       "  </thead>\n",
       "  <tbody>\n",
       "    <tr>\n",
       "      <td>General Farm Workers</td>\n",
       "      <td>0.0</td>\n",
       "      <td>0.0</td>\n",
       "      <td>0.0</td>\n",
       "      <td>0.0</td>\n",
       "      <td>65.0</td>\n",
       "      <td>125.0</td>\n",
       "      <td>161.0</td>\n",
       "      <td>161.0</td>\n",
       "    </tr>\n",
       "    <tr>\n",
       "      <td>Fruits and Vegetables</td>\n",
       "      <td>0.0</td>\n",
       "      <td>0.0</td>\n",
       "      <td>0.0</td>\n",
       "      <td>4.0</td>\n",
       "      <td>53.0</td>\n",
       "      <td>59.0</td>\n",
       "      <td>50.0</td>\n",
       "      <td>50.0</td>\n",
       "    </tr>\n",
       "    <tr>\n",
       "      <td>Tomatoes</td>\n",
       "      <td>0.0</td>\n",
       "      <td>0.0</td>\n",
       "      <td>28.0</td>\n",
       "      <td>61.0</td>\n",
       "      <td>141.0</td>\n",
       "      <td>234.0</td>\n",
       "      <td>76.0</td>\n",
       "      <td>48.0</td>\n",
       "    </tr>\n",
       "    <tr>\n",
       "      <td>Corn</td>\n",
       "      <td>2.0</td>\n",
       "      <td>2.0</td>\n",
       "      <td>0.0</td>\n",
       "      <td>5.0</td>\n",
       "      <td>8.0</td>\n",
       "      <td>2.0</td>\n",
       "      <td>21.0</td>\n",
       "      <td>21.0</td>\n",
       "    </tr>\n",
       "    <tr>\n",
       "      <td>Tobacco</td>\n",
       "      <td>0.0</td>\n",
       "      <td>0.0</td>\n",
       "      <td>0.0</td>\n",
       "      <td>18.0</td>\n",
       "      <td>25.0</td>\n",
       "      <td>10.0</td>\n",
       "      <td>15.0</td>\n",
       "      <td>15.0</td>\n",
       "    </tr>\n",
       "    <tr>\n",
       "      <td>Beans</td>\n",
       "      <td>0.0</td>\n",
       "      <td>0.0</td>\n",
       "      <td>0.0</td>\n",
       "      <td>21.0</td>\n",
       "      <td>0.0</td>\n",
       "      <td>0.0</td>\n",
       "      <td>10.0</td>\n",
       "      <td>10.0</td>\n",
       "    </tr>\n",
       "    <tr>\n",
       "      <td>Sod</td>\n",
       "      <td>4.0</td>\n",
       "      <td>0.0</td>\n",
       "      <td>0.0</td>\n",
       "      <td>6.0</td>\n",
       "      <td>3.0</td>\n",
       "      <td>5.0</td>\n",
       "      <td>6.0</td>\n",
       "      <td>6.0</td>\n",
       "    </tr>\n",
       "    <tr>\n",
       "      <td>Horses</td>\n",
       "      <td>0.0</td>\n",
       "      <td>0.0</td>\n",
       "      <td>0.0</td>\n",
       "      <td>0.0</td>\n",
       "      <td>0.0</td>\n",
       "      <td>0.0</td>\n",
       "      <td>4.0</td>\n",
       "      <td>4.0</td>\n",
       "    </tr>\n",
       "    <tr>\n",
       "      <td>Agricultural Equipment Operators</td>\n",
       "      <td>0.0</td>\n",
       "      <td>0.0</td>\n",
       "      <td>2.0</td>\n",
       "      <td>14.0</td>\n",
       "      <td>0.0</td>\n",
       "      <td>15.0</td>\n",
       "      <td>6.0</td>\n",
       "      <td>4.0</td>\n",
       "    </tr>\n",
       "    <tr>\n",
       "      <td>Fruits</td>\n",
       "      <td>10.0</td>\n",
       "      <td>20.0</td>\n",
       "      <td>0.0</td>\n",
       "      <td>0.0</td>\n",
       "      <td>0.0</td>\n",
       "      <td>4.0</td>\n",
       "      <td>4.0</td>\n",
       "      <td>4.0</td>\n",
       "    </tr>\n",
       "  </tbody>\n",
       "</table>\n",
       "</div>"
      ],
      "text/plain": [
       "                                  2011.0  2012.0  2015.0  2016.0  2017.0  \\\n",
       "                                                                           \n",
       "General Farm Workers                 0.0     0.0     0.0     0.0    65.0   \n",
       "Fruits and Vegetables                0.0     0.0     0.0     4.0    53.0   \n",
       "Tomatoes                             0.0     0.0    28.0    61.0   141.0   \n",
       "Corn                                 2.0     2.0     0.0     5.0     8.0   \n",
       "Tobacco                              0.0     0.0     0.0    18.0    25.0   \n",
       "Beans                                0.0     0.0     0.0    21.0     0.0   \n",
       "Sod                                  4.0     0.0     0.0     6.0     3.0   \n",
       "Horses                               0.0     0.0     0.0     0.0     0.0   \n",
       "Agricultural Equipment Operators     0.0     0.0     2.0    14.0     0.0   \n",
       "Fruits                              10.0    20.0     0.0     0.0     0.0   \n",
       "\n",
       "                                  2018.0  2019.0  change_15to19  \n",
       "                                                                 \n",
       "General Farm Workers               125.0   161.0          161.0  \n",
       "Fruits and Vegetables               59.0    50.0           50.0  \n",
       "Tomatoes                           234.0    76.0           48.0  \n",
       "Corn                                 2.0    21.0           21.0  \n",
       "Tobacco                             10.0    15.0           15.0  \n",
       "Beans                                0.0    10.0           10.0  \n",
       "Sod                                  5.0     6.0            6.0  \n",
       "Horses                               0.0     4.0            4.0  \n",
       "Agricultural Equipment Operators    15.0     6.0            4.0  \n",
       "Fruits                               4.0     4.0            4.0  "
      ]
     },
     "execution_count": 62,
     "metadata": {},
     "output_type": "execute_result"
    }
   ],
   "source": [
    "crops_crosstab.sort_values(\"change_15to19\", ascending=False).head(10)"
   ]
  },
  {
   "cell_type": "markdown",
   "metadata": {},
   "source": [
    "Ouput for a graphic"
   ]
  },
  {
   "cell_type": "code",
   "execution_count": 63,
   "metadata": {
    "collapsed": true
   },
   "outputs": [],
   "source": [
    "crops_crosstab.to_csv(os.path.join(output_dir, \"crops-crosstab.csv\"))"
   ]
  },
  {
   "cell_type": "markdown",
   "metadata": {},
   "source": [
    "### Looking at Erie County, OH"
   ]
  },
  {
   "cell_type": "markdown",
   "metadata": {},
   "source": [
    "Filter down to subcases in this one county"
   ]
  },
  {
   "cell_type": "code",
   "execution_count": 64,
   "metadata": {
    "collapsed": true
   },
   "outputs": [],
   "source": [
    "erie = gdf_with_county[gdf_with_county.NAME.isin(['Huron', 'Sandusky'])]"
   ]
  },
  {
   "cell_type": "markdown",
   "metadata": {},
   "source": [
    "Count the total number of workers there by year"
   ]
  },
  {
   "cell_type": "code",
   "execution_count": 65,
   "metadata": {
    "collapsed": true
   },
   "outputs": [],
   "source": [
    "erie_crosstab = erie.groupby([\n",
    "    'certification_start_year'\n",
    "]).net_workers.sum().reset_index().set_index(\"certification_start_year\")"
   ]
  },
  {
   "cell_type": "markdown",
   "metadata": {},
   "source": [
    "Ouput the totals"
   ]
  },
  {
   "cell_type": "code",
   "execution_count": 66,
   "metadata": {},
   "outputs": [
    {
     "data": {
      "text/plain": [
       "<matplotlib.axes._subplots.AxesSubplot at 0x11ebe3eb8>"
      ]
     },
     "execution_count": 66,
     "metadata": {},
     "output_type": "execute_result"
    },
    {
     "data": {
      "image/png": "[encoded data removed]",
      "text/plain": [
       "<matplotlib.figure.Figure at 0x11ebec160>"
      ]
     },
     "metadata": {},
     "output_type": "display_data"
    }
   ],
   "source": [
    "erie_crosstab.plot.bar()"
   ]
  }
 ],
 "metadata": {
  "kernelspec": {
   "display_name": "Python 3",
   "language": "python",
   "name": "python3"
  },
  "language_info": {
   "codemirror_mode": {
    "name": "ipython",
    "version": 3
   },
   "file_extension": ".py",
   "mimetype": "text/x-python",
   "name": "python",
   "nbconvert_exporter": "python",
   "pygments_lexer": "ipython3",
   "version": "3.6.3"
  }
 },
 "nbformat": 4,
 "nbformat_minor": 2
}
